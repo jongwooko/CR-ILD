{
 "cells": [
  {
   "cell_type": "code",
   "execution_count": null,
   "id": "a2eb2d16",
   "metadata": {},
   "outputs": [],
   "source": [
    "import os"
   ]
  },
  {
   "cell_type": "markdown",
   "id": "9f0340f5",
   "metadata": {},
   "source": [
    "### CR-ILD / RTE"
   ]
  },
  {
   "cell_type": "code",
   "execution_count": null,
   "id": "b315c681",
   "metadata": {},
   "outputs": [],
   "source": [
    "y = [[] for _ in range(3)]\n",
    "\n",
    "for seed in range(3):\n",
    "    file = open('./output/standard_glue_truncated_bert/CRILD/RTE/seed{}/3e-5/eval_results_kd.txt'.format(seed+42), 'r')\n",
    "    lines = file.readlines()\n",
    "    for line in lines:\n",
    "        if 'acc' in line and 'tr' not in line:\n",
    "            y[seed].append(float(line.split('=')[-1]))\n",
    "            \n",
    "seed0, seed1, seed2 = max(y[0]), max(y[1]), max(y[2])\n",
    "print (\"RESULTS: {} ({}, {}, {})\".format(round((seed0 + seed1 + seed2) / 3 * 100, 2),\n",
    "                                         round(seed0 * 100, 2), \n",
    "                                         round(seed1 * 100, 2), \n",
    "                                         round(seed2 * 100, 2)))"
   ]
  },
  {
   "cell_type": "markdown",
   "id": "10a31db0",
   "metadata": {},
   "source": [
    "### TinyBERT / RTE"
   ]
  },
  {
   "cell_type": "code",
   "execution_count": 3,
   "id": "09a35b8f",
   "metadata": {},
   "outputs": [
    {
     "name": "stdout",
     "output_type": "stream",
     "text": [
      "RESULTS: 56.08 (57.04, 56.68, 54.51)\n"
     ]
    }
   ],
   "source": [
    "y = [[] for _ in range(3)]\n",
    "\n",
    "for seed in range(3):\n",
    "    file = open('./output/standard_glue_truncated_bert/TinyBERT/RTE/seed{}/3e-5/eval_results_kd.txt'.format(seed+42), 'r')\n",
    "    lines = file.readlines()\n",
    "    for line in lines:\n",
    "        if 'acc' in line and 'tr' not in line:\n",
    "            y[seed].append(float(line.split('=')[-1]))\n",
    "            \n",
    "seed0, seed1, seed2 = max(y[0]), max(y[1]), max(y[2])\n",
    "print (\"RESULTS: {} ({}, {}, {})\".format(round((seed0 + seed1 + seed2) / 3 * 100, 2),\n",
    "                                         round(seed0 * 100, 2), \n",
    "                                         round(seed1 * 100, 2), \n",
    "                                         round(seed2 * 100, 2)))"
   ]
  },
  {
   "cell_type": "markdown",
   "id": "adeb972b",
   "metadata": {},
   "source": [
    "### BERT-EMD / RTE"
   ]
  },
  {
   "cell_type": "code",
   "execution_count": 4,
   "id": "4b11be39",
   "metadata": {},
   "outputs": [
    {
     "name": "stdout",
     "output_type": "stream",
     "text": [
      "RESULTS: 66.79 (65.7, 67.51, 67.15)\n"
     ]
    }
   ],
   "source": [
    "y = [[] for _ in range(3)]\n",
    "\n",
    "for seed in range(3):\n",
    "    file = open('./output/standard_glue_truncated_bert/EMD/RTE/seed{}/3e-5/eval_results_kd.txt'.format(seed+42), 'r')\n",
    "    lines = file.readlines()\n",
    "    for line in lines:\n",
    "        if 'acc' in line and 'tr' not in line:\n",
    "            y[seed].append(float(line.split('=')[-1]))\n",
    "            \n",
    "seed0, seed1, seed2 = max(y[0]), max(y[1]), max(y[2])\n",
    "print (\"RESULTS: {} ({}, {}, {})\".format(round((seed0 + seed1 + seed2) / 3 * 100, 2),\n",
    "                                         round(seed0 * 100, 2), \n",
    "                                         round(seed1 * 100, 2), \n",
    "                                         round(seed2 * 100, 2)))"
   ]
  },
  {
   "cell_type": "markdown",
   "id": "14053561",
   "metadata": {},
   "source": [
    "### Patient KD / RTE"
   ]
  },
  {
   "cell_type": "code",
   "execution_count": 5,
   "id": "9c8f240d",
   "metadata": {},
   "outputs": [
    {
     "name": "stdout",
     "output_type": "stream",
     "text": [
      "RESULTS: 61.85 (66.79, 55.6, 63.18)\n"
     ]
    }
   ],
   "source": [
    "y = [[] for _ in range(3)]\n",
    "\n",
    "for seed in range(3):\n",
    "    file = open('./output/standard_glue_truncated_bert/PKD/RTE/seed{}/3e-5/eval_results_kd.txt'.format(seed+42), 'r')\n",
    "    lines = file.readlines()\n",
    "    for line in lines:\n",
    "        if 'acc' in line and 'tr' not in line:\n",
    "            y[seed].append(float(line.split('=')[-1]))\n",
    "            \n",
    "seed0, seed1, seed2 = max(y[0]), max(y[1]), max(y[2])\n",
    "print (\"RESULTS: {} ({}, {}, {})\".format(round((seed0 + seed1 + seed2) / 3 * 100, 2),\n",
    "                                         round(seed0 * 100, 2), \n",
    "                                         round(seed1 * 100, 2), \n",
    "                                         round(seed2 * 100, 2)))"
   ]
  },
  {
   "cell_type": "markdown",
   "id": "0f46b80d",
   "metadata": {},
   "source": [
    "### CR-ILD / CoLA"
   ]
  },
  {
   "cell_type": "code",
   "execution_count": 6,
   "id": "d64e71c6",
   "metadata": {},
   "outputs": [
    {
     "name": "stdout",
     "output_type": "stream",
     "text": [
      "RESULTS: 39.93 (38.8, 39.52, 41.46)\n"
     ]
    }
   ],
   "source": [
    "y = [[] for _ in range(3)]\n",
    "\n",
    "for seed in range(3):\n",
    "    file = open('./output/standard_glue_truncated_bert/CRILD/CoLA/seed{}/3e-5/eval_results_kd.txt'.format(seed+42), 'r')\n",
    "    lines = file.readlines()\n",
    "    for line in lines:\n",
    "        if 'mcc' in line and 'tr' not in line:\n",
    "            y[seed].append(float(line.split('=')[-1]))\n",
    "            \n",
    "seed0, seed1, seed2 = max(y[0]), max(y[1]), max(y[2])\n",
    "print (\"RESULTS: {} ({}, {}, {})\".format(round((seed0 + seed1 + seed2) / 3 * 100, 2),\n",
    "                                         round(seed0 * 100, 2), \n",
    "                                         round(seed1 * 100, 2), \n",
    "                                         round(seed2 * 100, 2)))"
   ]
  },
  {
   "cell_type": "markdown",
   "id": "7c8ae5f3",
   "metadata": {},
   "source": [
    "### TinyBERT / CoLA"
   ]
  },
  {
   "cell_type": "code",
   "execution_count": 7,
   "id": "c78e03f3",
   "metadata": {},
   "outputs": [
    {
     "name": "stdout",
     "output_type": "stream",
     "text": [
      "RESULTS: 33.32 (32.67, 34.59, 32.7)\n"
     ]
    }
   ],
   "source": [
    "y = [[] for _ in range(3)]\n",
    "\n",
    "for seed in range(3):\n",
    "    file = open('./output/standard_glue_truncated_bert/TinyBERT/CoLA/seed{}/3e-5/eval_results_kd.txt'.format(seed+42), 'r')\n",
    "    lines = file.readlines()\n",
    "    for line in lines:\n",
    "        if 'mcc' in line and 'tr' not in line:\n",
    "            y[seed].append(float(line.split('=')[-1]))\n",
    "            \n",
    "seed0, seed1, seed2 = max(y[0]), max(y[1]), max(y[2])\n",
    "print (\"RESULTS: {} ({}, {}, {})\".format(round((seed0 + seed1 + seed2) / 3 * 100, 2),\n",
    "                                         round(seed0 * 100, 2), \n",
    "                                         round(seed1 * 100, 2), \n",
    "                                         round(seed2 * 100, 2)))"
   ]
  },
  {
   "cell_type": "markdown",
   "id": "159e5638",
   "metadata": {},
   "source": [
    "### BERT-EMD / CoLA"
   ]
  },
  {
   "cell_type": "code",
   "execution_count": 8,
   "id": "92581d41",
   "metadata": {},
   "outputs": [
    {
     "name": "stdout",
     "output_type": "stream",
     "text": [
      "RESULTS: 38.53 (40.71, 37.63, 37.24)\n"
     ]
    }
   ],
   "source": [
    "y = [[] for _ in range(3)]\n",
    "\n",
    "for seed in range(3):\n",
    "    file = open('./output/standard_glue_truncated_bert/EMD/CoLA/seed{}/3e-5/eval_results_kd.txt'.format(seed+42), 'r')\n",
    "    lines = file.readlines()\n",
    "    for line in lines:\n",
    "        if 'mcc' in line and 'tr' not in line:\n",
    "            y[seed].append(float(line.split('=')[-1]))\n",
    "            \n",
    "seed0, seed1, seed2 = max(y[0]), max(y[1]), max(y[2])\n",
    "print (\"RESULTS: {} ({}, {}, {})\".format(round((seed0 + seed1 + seed2) / 3 * 100, 2),\n",
    "                                         round(seed0 * 100, 2), \n",
    "                                         round(seed1 * 100, 2), \n",
    "                                         round(seed2 * 100, 2)))"
   ]
  },
  {
   "cell_type": "markdown",
   "id": "0c92f78a",
   "metadata": {},
   "source": [
    "### Patient KD / CoLA"
   ]
  },
  {
   "cell_type": "code",
   "execution_count": 9,
   "id": "551ac628",
   "metadata": {},
   "outputs": [
    {
     "name": "stdout",
     "output_type": "stream",
     "text": [
      "RESULTS: 9.75 (6.2, 11.54, 11.51)\n"
     ]
    }
   ],
   "source": [
    "y = [[] for _ in range(3)]\n",
    "\n",
    "for seed in range(3):\n",
    "    file = open('./output/standard_glue_truncated_bert/PKD/CoLA/seed{}/3e-5/eval_results_kd.txt'.format(seed+42), 'r')\n",
    "    lines = file.readlines()\n",
    "    for line in lines:\n",
    "        if 'mcc' in line and 'tr' not in line:\n",
    "            y[seed].append(float(line.split('=')[-1]))\n",
    "            \n",
    "seed0, seed1, seed2 = max(y[0]), max(y[1]), max(y[2])\n",
    "print (\"RESULTS: {} ({}, {}, {})\".format(round((seed0 + seed1 + seed2) / 3 * 100, 2),\n",
    "                                         round(seed0 * 100, 2), \n",
    "                                         round(seed1 * 100, 2), \n",
    "                                         round(seed2 * 100, 2)))"
   ]
  }
 ],
 "metadata": {
  "kernelspec": {
   "display_name": "Python 3 (ipykernel)",
   "language": "python",
   "name": "python3"
  },
  "language_info": {
   "codemirror_mode": {
    "name": "ipython",
    "version": 3
   },
   "file_extension": ".py",
   "mimetype": "text/x-python",
   "name": "python",
   "nbconvert_exporter": "python",
   "pygments_lexer": "ipython3",
   "version": "3.8.10"
  }
 },
 "nbformat": 4,
 "nbformat_minor": 5
}
